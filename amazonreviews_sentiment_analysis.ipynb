{
  "cells": [
    {
      "cell_type": "markdown",
      "source": [
        "Download the dataset from https://www.kaggle.com/datasets/kritanjalijain/amazon-reviews/data"
      ],
      "metadata": {
        "id": "n3BctctJhyr8"
      }
    },
    {
      "cell_type": "code",
      "execution_count": 14,
      "metadata": {
        "colab": {
          "base_uri": "https://localhost:8080/"
        },
        "id": "YSp-ybpXE1Si",
        "outputId": "def5b085-5e9c-421f-8015-514302e67375"
      },
      "outputs": [
        {
          "output_type": "stream",
          "name": "stdout",
          "text": [
            "Drive already mounted at /content/drive; to attempt to forcibly remount, call drive.mount(\"/content/drive\", force_remount=True).\n"
          ]
        }
      ],
      "source": [
        "# Mount Google Drive\n",
        "\n",
        "from google.colab import drive\n",
        "drive.mount('/content/drive')"
      ]
    },
    {
      "cell_type": "code",
      "execution_count": 15,
      "metadata": {
        "id": "0IW5m2qSCsqG"
      },
      "outputs": [],
      "source": [
        "# Import necessary libraries\n",
        "\n",
        "import numpy as np\n",
        "import pandas as pd\n",
        "import tensorflow as tf\n",
        "import pickle\n",
        "import matplotlib.pyplot as plt\n",
        "import seaborn as sns\n",
        "from sklearn.metrics import confusion_matrix\n",
        "from sklearn.metrics import classification_report\n",
        "\n",
        "# Keras utilities for text preprocessing and model building\n",
        "from tensorflow.keras.preprocessing.text import Tokenizer\n",
        "from tensorflow.keras.preprocessing.sequence import pad_sequences\n",
        "from tensorflow.keras.models import Sequential, load_model\n",
        "from tensorflow.keras.layers import Embedding, LSTM, Dense, Dropout, Bidirectional\n",
        "from tensorflow.keras.callbacks import ReduceLROnPlateau, EarlyStopping"
      ]
    },
    {
      "cell_type": "code",
      "execution_count": 16,
      "metadata": {
        "id": "9YTIqYScDNpY"
      },
      "outputs": [],
      "source": [
        "# Load training and testing datasets\n",
        "\n",
        "df_train = pd.read_csv(\"/content/drive/MyDrive/amazon-reviews/train.csv\", skiprows=1, names=[\"Polarity\", \"Title\", \"Review\"]) # Replace path of train dataset\n",
        "\n",
        "df_test = pd.read_csv(\"/content/drive/MyDrive/amazon-reviews/test.csv\", skiprows=1, names=[\"Polarity\", \"Title\", \"Review\"]) # Replace path of test dataset\n",
        "\n"
      ]
    },
    {
      "cell_type": "code",
      "source": [
        "# Dataset preprocessing\n",
        "\n",
        "# Remove rows with missing values\n",
        "df_train.dropna(inplace=True)\n",
        "df_test.dropna(inplace=True)\n",
        "\n",
        "# Convert sentiment labels: 1 → 0 (Negative), 2 → 1 (Positive)\n",
        "df_train[\"Polarity\"] = df_train[\"Polarity\"].astype(int) - 1\n",
        "df_test[\"Polarity\"] = df_test[\"Polarity\"].astype(int) - 1\n",
        "\n",
        "# Reduce training dataset size to 200K samples for efficient training\n",
        "df_train = df_train.sample(200000, random_state=42)\n",
        "\n",
        "# Extract text reviews and corresponding labels\n",
        "X_train = df_train[\"Review\"].astype(str).values\n",
        "y_train = df_train[\"Polarity\"].values\n",
        "X_test = df_test[\"Review\"].astype(str).values\n",
        "y_test = df_test[\"Polarity\"].values"
      ],
      "metadata": {
        "id": "wc9e0x3-CQMP"
      },
      "execution_count": 17,
      "outputs": []
    },
    {
      "cell_type": "code",
      "source": [
        "# Class distribution in dataset\n",
        "\n",
        "sentiment_counts = df_train[\"Polarity\"].value_counts()\n",
        "\n",
        "# Plot the distribution\n",
        "plt.figure(figsize=(3, 4))\n",
        "sns.barplot(x=sentiment_counts.index, y=sentiment_counts.values, palette=[\"#FF6F61\", \"#6B8E23\"])\n",
        "plt.xticks(ticks=[0, 1], labels=[\"Negative\", \"Positive\"])\n",
        "plt.ylabel(\"Number of Reviews\")\n",
        "plt.xlabel(\"Sentiment\")\n",
        "plt.title(\"Distribution of Positive and Negative Reviews in Train Data\")\n",
        "plt.show()"
      ],
      "metadata": {
        "colab": {
          "base_uri": "https://localhost:8080/",
          "height": 497
        },
        "id": "w69TeY8YbqT9",
        "outputId": "80167573-5b6d-4b24-a39e-c559cc6cc3dc"
      },
      "execution_count": 18,
      "outputs": [
        {
          "output_type": "stream",
          "name": "stderr",
          "text": [
            "<ipython-input-18-01d670b81a8d>:7: FutureWarning: \n",
            "\n",
            "Passing `palette` without assigning `hue` is deprecated and will be removed in v0.14.0. Assign the `x` variable to `hue` and set `legend=False` for the same effect.\n",
            "\n",
            "  sns.barplot(x=sentiment_counts.index, y=sentiment_counts.values, palette=[\"#FF6F61\", \"#6B8E23\"])\n"
          ]
        },
        {
          "output_type": "display_data",
          "data": {
            "text/plain": [
              "<Figure size 300x400 with 1 Axes>"
            ],
            "image/png": "[encoded data removed]"
          },
          "metadata": {}
        }
      ]
    },
    {
      "cell_type": "code",
      "execution_count": 19,
      "metadata": {
        "id": "rXsoXqCqHGlN"
      },
      "outputs": [],
      "source": [
        "# Tokenization and Padding\n",
        "\n",
        "# Define vocabulary size and maximum review length\n",
        "VOCAB_SIZE = 15000  # Restrict vocabulary to 15,000 words\n",
        "MAX_LENGTH = 100    # Limit reviews to 100 words\n",
        "\n",
        "# Initialize tokenizer with an out-of-vocabulary (OOV) token\n",
        "tokenizer = Tokenizer(num_words=VOCAB_SIZE, oov_token=\"<OOV>\")\n",
        "tokenizer.fit_on_texts(X_train)  # Train tokenizer on review texts\n",
        "\n",
        "# Convert text reviews into integer sequences\n",
        "X_train_seq = tokenizer.texts_to_sequences(X_train)\n",
        "X_test_seq = tokenizer.texts_to_sequences(X_test)\n",
        "\n",
        "# Apply padding to ensure uniform sequence length\n",
        "X_train_padded = pad_sequences(X_train_seq, maxlen=MAX_LENGTH, padding=\"post\", truncating=\"post\")\n",
        "X_test_padded = pad_sequences(X_test_seq, maxlen=MAX_LENGTH, padding=\"post\", truncating=\"post\")"
      ]
    },
    {
      "cell_type": "code",
      "execution_count": 20,
      "metadata": {
        "colab": {
          "base_uri": "https://localhost:8080/"
        },
        "id": "ze3wcICjdYLz",
        "outputId": "8d8cd0ce-a6e6-4586-c9c7-6e5a48eb3238"
      },
      "outputs": [
        {
          "output_type": "stream",
          "name": "stderr",
          "text": [
            "/usr/local/lib/python3.11/dist-packages/keras/src/layers/core/embedding.py:90: UserWarning: Argument `input_length` is deprecated. Just remove it.\n",
            "  warnings.warn(\n"
          ]
        }
      ],
      "source": [
        "# Define the LSTM model\n",
        "\n",
        "model = Sequential([\n",
        "    Embedding(VOCAB_SIZE, 32, input_length=MAX_LENGTH),\n",
        "    Bidirectional(LSTM(64, return_sequences=True, dropout=0.3, recurrent_dropout=0.2)),\n",
        "    LSTM(32, dropout=0.3, recurrent_dropout=0.2),\n",
        "    Dense(16, activation='relu'),\n",
        "    Dropout(0.3),\n",
        "    Dense(1, activation='sigmoid')\n",
        "])\n",
        "\n",
        "# Compile the model\n",
        "model.compile(loss='binary_crossentropy', optimizer='adam', metrics=['accuracy'])\n"
      ]
    },
    {
      "cell_type": "code",
      "execution_count": 21,
      "metadata": {
        "colab": {
          "base_uri": "https://localhost:8080/"
        },
        "id": "OIHbCPUQad2o",
        "outputId": "fce3d11e-3ea6-4562-dbb2-1048a8dcaf74"
      },
      "outputs": [
        {
          "output_type": "stream",
          "name": "stdout",
          "text": [
            "Epoch 1/5\n",
            "\u001b[1m196/196\u001b[0m \u001b[32m━━━━━━━━━━━━━━━━━━━━\u001b[0m\u001b[37m\u001b[0m \u001b[1m922s\u001b[0m 5s/step - accuracy: 0.5713 - loss: 0.6624 - val_accuracy: 0.8222 - val_loss: 0.4372 - learning_rate: 0.0010\n",
            "Epoch 2/5\n",
            "\u001b[1m196/196\u001b[0m \u001b[32m━━━━━━━━━━━━━━━━━━━━\u001b[0m\u001b[37m\u001b[0m \u001b[1m879s\u001b[0m 4s/step - accuracy: 0.8262 - loss: 0.4477 - val_accuracy: 0.8168 - val_loss: 0.3909 - learning_rate: 0.0010\n",
            "Epoch 3/5\n",
            "\u001b[1m196/196\u001b[0m \u001b[32m━━━━━━━━━━━━━━━━━━━━\u001b[0m\u001b[37m\u001b[0m \u001b[1m0s\u001b[0m 3s/step - accuracy: 0.8360 - loss: 0.4202\n",
            "Epoch 3: ReduceLROnPlateau reducing learning rate to 0.0005000000237487257.\n",
            "\u001b[1m196/196\u001b[0m \u001b[32m━━━━━━━━━━━━━━━━━━━━\u001b[0m\u001b[37m\u001b[0m \u001b[1m920s\u001b[0m 4s/step - accuracy: 0.8360 - loss: 0.4203 - val_accuracy: 0.6643 - val_loss: 0.5821 - learning_rate: 0.0010\n",
            "Epoch 4/5\n",
            "\u001b[1m196/196\u001b[0m \u001b[32m━━━━━━━━━━━━━━━━━━━━\u001b[0m\u001b[37m\u001b[0m \u001b[1m916s\u001b[0m 4s/step - accuracy: 0.7964 - loss: 0.4502 - val_accuracy: 0.8521 - val_loss: 0.3693 - learning_rate: 5.0000e-04\n",
            "Epoch 5/5\n",
            "\u001b[1m196/196\u001b[0m \u001b[32m━━━━━━━━━━━━━━━━━━━━\u001b[0m\u001b[37m\u001b[0m \u001b[1m823s\u001b[0m 4s/step - accuracy: 0.8492 - loss: 0.3791 - val_accuracy: 0.8556 - val_loss: 0.3487 - learning_rate: 5.0000e-04\n"
          ]
        }
      ],
      "source": [
        "# Train the model\n",
        "lr_scheduler = ReduceLROnPlateau(monitor='val_loss', factor=0.5, patience=1, min_lr=0.00001, verbose=1)\n",
        "early_stopping = EarlyStopping(monitor='val_loss', patience=2, restore_best_weights=True)\n",
        "\n",
        "history = model.fit(\n",
        "    X_train_padded, y_train,\n",
        "    validation_data=(X_test_padded, y_test),\n",
        "    epochs=5,\n",
        "    batch_size=1024,\n",
        "    callbacks=[early_stopping, lr_scheduler]\n",
        ")"
      ]
    },
    {
      "cell_type": "code",
      "execution_count": 22,
      "metadata": {
        "colab": {
          "base_uri": "https://localhost:8080/"
        },
        "id": "7qt9mmkqagGB",
        "outputId": "921f05a2-3884-4064-f465-2c624bafc3e1"
      },
      "outputs": [
        {
          "output_type": "stream",
          "name": "stdout",
          "text": [
            "\u001b[1m12500/12500\u001b[0m \u001b[32m━━━━━━━━━━━━━━━━━━━━\u001b[0m\u001b[37m\u001b[0m \u001b[1m799s\u001b[0m 64ms/step - accuracy: 0.8559 - loss: 0.3496\n",
            "Test Accuracy: 85.56%\n",
            "\u001b[1m12500/12500\u001b[0m \u001b[32m━━━━━━━━━━━━━━━━━━━━\u001b[0m\u001b[37m\u001b[0m \u001b[1m802s\u001b[0m 64ms/step\n",
            "\n",
            "Classification Report:\n",
            "\n",
            "              precision    recall  f1-score   support\n",
            "\n",
            "    Negative       0.89      0.78      0.83    199984\n",
            "    Positive       0.81      0.90      0.85    199992\n",
            "\n",
            "    accuracy                           0.84    399976\n",
            "   macro avg       0.85      0.84      0.84    399976\n",
            "weighted avg       0.85      0.84      0.84    399976\n",
            "\n"
          ]
        }
      ],
      "source": [
        "# Evaluate trained model on test dataset\n",
        "\n",
        "loss, accuracy = model.evaluate(X_test_padded, y_test)\n",
        "print(f\"Test Accuracy: {accuracy * 100:.2f}%\")\n",
        "\n",
        "# Predict sentiment on test dataset\n",
        "y_pred = model.predict(X_test_padded)\n",
        "y_pred_classes = (y_pred > 0.3).astype(\"int32\")  # Conversion to binary labels\n",
        "\n",
        "# Generate classification report\n",
        "print(\"\\nClassification Report:\\n\")\n",
        "print(classification_report(y_test, y_pred_classes, target_names=[\"Negative\", \"Positive\"]))\n"
      ]
    },
    {
      "cell_type": "code",
      "execution_count": 23,
      "metadata": {
        "colab": {
          "base_uri": "https://localhost:8080/",
          "height": 410
        },
        "id": "f4N8G2Gr415R",
        "outputId": "b4ea9b65-755a-4fb8-aa87-1f6906949ca3"
      },
      "outputs": [
        {
          "output_type": "display_data",
          "data": {
            "text/plain": [
              "<Figure size 400x400 with 2 Axes>"
            ],
            "image/png": "[encoded data removed]"
          },
          "metadata": {}
        }
      ],
      "source": [
        "# Compute confusion matrix\n",
        "cm = confusion_matrix(y_test, y_pred_classes)\n",
        "\n",
        "# Plot confusion matrix heatmap\n",
        "plt.figure(figsize=(4, 4))\n",
        "sns.heatmap(cm, annot=True, fmt=\"d\", cmap=\"Blues\", xticklabels=[\"Negative\", \"Positive\"], yticklabels=[\"Negative\", \"Positive\"])\n",
        "plt.xlabel(\"Predicted\")\n",
        "plt.ylabel(\"Actual\")\n",
        "plt.title(\"Confusion Matrix\")\n",
        "plt.show()"
      ]
    },
    {
      "cell_type": "code",
      "execution_count": 31,
      "metadata": {
        "colab": {
          "base_uri": "https://localhost:8080/"
        },
        "id": "_vPdx6Cb5FaA",
        "outputId": "f054c9d7-ee62-42d7-94f0-d2d8a798c43d"
      },
      "outputs": [
        {
          "output_type": "stream",
          "name": "stdout",
          "text": [
            "\u001b[1m1/1\u001b[0m \u001b[32m━━━━━━━━━━━━━━━━━━━━\u001b[0m\u001b[37m\u001b[0m \u001b[1m0s\u001b[0m 79ms/step\n",
            "\u001b[1m1/1\u001b[0m \u001b[32m━━━━━━━━━━━━━━━━━━━━\u001b[0m\u001b[37m\u001b[0m \u001b[1m0s\u001b[0m 78ms/step\n",
            "\u001b[1m1/1\u001b[0m \u001b[32m━━━━━━━━━━━━━━━━━━━━\u001b[0m\u001b[37m\u001b[0m \u001b[1m0s\u001b[0m 80ms/step\n",
            "\u001b[1m1/1\u001b[0m \u001b[32m━━━━━━━━━━━━━━━━━━━━\u001b[0m\u001b[37m\u001b[0m \u001b[1m0s\u001b[0m 80ms/step\n",
            "\u001b[1m1/1\u001b[0m \u001b[32m━━━━━━━━━━━━━━━━━━━━\u001b[0m\u001b[37m\u001b[0m \u001b[1m0s\u001b[0m 74ms/step\n",
            "\n",
            "Average Sentiment Score: 0.38\n",
            "\n",
            "Overall Verdict: Mixed Sentiment (Confidence: 0.38)\n"
          ]
        }
      ],
      "source": [
        "# Example usage\n",
        "\n",
        "def analyze_product_reviews(reviews):\n",
        "\n",
        "    sentiment_scores = []\n",
        "\n",
        "    for review in reviews:\n",
        "        # Convert the review to a sequence\n",
        "        review_seq = tokenizer.texts_to_sequences([review])\n",
        "        review_padded = pad_sequences(review_seq, maxlen=MAX_LENGTH, padding=\"post\", truncating=\"post\")\n",
        "\n",
        "        # Predict sentiment\n",
        "        prediction = model.predict(review_padded)[0][0]\n",
        "        sentiment_scores.append(prediction)\n",
        "\n",
        "      #  print(f\"Review: \\\"{review}\\\" -> Sentiment Score: {prediction:.2f}\")\n",
        "\n",
        "\n",
        "\n",
        "    # Compute average sentiment score\n",
        "    avg_score = np.mean(sentiment_scores)\n",
        "    print(f\"\\nAverage Sentiment Score: {avg_score:.2f}\")  # Debugging output\n",
        "\n",
        "    # Determine overall verdict based on average sentiment score\n",
        "    if avg_score > 0.5:\n",
        "        overall_sentiment = \"Mostly Positive\"\n",
        "    elif avg_score > 0.3:\n",
        "        overall_sentiment = \"Mixed Sentiment\"\n",
        "    else:\n",
        "        overall_sentiment = \"Mostly Negative\"\n",
        "\n",
        "    print(f\"\\nOverall Verdict: {overall_sentiment} (Confidence: {avg_score:.2f})\")\n",
        "\n",
        "\n",
        "\n",
        "product_reviews = [\n",
        "    \"This product is fantastic! I love it.\",\n",
        "    \"Very poor quality, broke after one use.\",\n",
        "    \"Not great, not terrible. Just okay.\",\n",
        "    \"Excellent! Works as expected.\",\n",
        "    \"Terrible experience. Waste of money.\"\n",
        "]\n",
        "\n",
        "analyze_product_reviews(product_reviews)\n"
      ]
    }
  ],
  "metadata": {
    "colab": {
      "provenance": []
    },
    "kernelspec": {
      "display_name": "Python 3",
      "name": "python3"
    },
    "language_info": {
      "name": "python"
    }
  },
  "nbformat": 4,
  "nbformat_minor": 0
}